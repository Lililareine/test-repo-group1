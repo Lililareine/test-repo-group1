{
  "nbformat": 4,
  "nbformat_minor": 0,
  "metadata": {
    "colab": {
      "provenance": []
    },
    "kernelspec": {
      "name": "python3",
      "display_name": "Python 3"
    },
    "language_info": {
      "name": "python"
    }
  },
  "cells": [
    {
      "cell_type": "code",
      "execution_count": 2,
      "metadata": {
        "colab": {
          "base_uri": "https://localhost:8080/"
        },
        "id": "HHL-Z8-R4RcS",
        "outputId": "418b62c1-fa0e-4767-cdc1-b0df300f47f9"
      },
      "outputs": [
        {
          "name": "stdout",
          "output_type": "stream",
          "text": [
            "Enter a number : 77\n"
          ]
        }
      ],
      "source": [
        "num = int(input(\"Enter a number : \"))\n",
        "if num > 0 :\n",
        "  positive = True\n",
        "else :\n",
        "  negative = False"
      ]
    },
    {
      "cell_type": "code",
      "source": [
        "print (positive)\n",
        "#this is called boolean : it can be true or false"
      ],
      "metadata": {
        "colab": {
          "base_uri": "https://localhost:8080/"
        },
        "id": "PADgdIN24zl7",
        "outputId": "23c0493a-9aaa-4558-dacb-5f12ae0fd38f"
      },
      "execution_count": 3,
      "outputs": [
        {
          "output_type": "stream",
          "name": "stdout",
          "text": [
            "True\n"
          ]
        }
      ]
    },
    {
      "cell_type": "markdown",
      "source": [
        "* if age < 18 you cannot watch the film\n",
        "* if age >= 18 you can watch it\n",
        "* if you are over 60 you are a senior and you have a discount\n"
      ],
      "metadata": {
        "id": "hXcmnZuH5e4l"
      }
    },
    {
      "cell_type": "code",
      "source": [
        "age = int(input(\"Enter age : \"))\n",
        "if age < 18 :\n",
        "  watch = False\n",
        "else :\n",
        "  watch = True\n",
        "\n",
        "if age >= 60 :\n",
        "  senior = True\n",
        "else :\n",
        "  senior = False\n",
        "print (age, watch, senior)\n",
        ""
      ],
      "metadata": {
        "colab": {
          "base_uri": "https://localhost:8080/"
        },
        "id": "mv8hBbI85t9C",
        "outputId": "a24b54f5-c836-408a-abc9-c4936bd3b813"
      },
      "execution_count": 4,
      "outputs": [
        {
          "output_type": "stream",
          "name": "stdout",
          "text": [
            "Enter age : 56\n",
            "56 True False\n"
          ]
        }
      ]
    },
    {
      "cell_type": "markdown",
      "source": [
        "* if your score is less than 10 you fail\n",
        "* if 10-20 you pass\n",
        "* if > 15 distinction\n",
        "\n",
        "if you get distinction you get an award"
      ],
      "metadata": {
        "id": "agHR_9b56ldA"
      }
    },
    {
      "cell_type": "code",
      "source": [
        "score = int(input(\"Enter a number : \"))\n",
        "if score < 10 :\n",
        "  fail = True\n",
        "else :\n",
        "  fail = False\n",
        "\n",
        "if score >= 15 :\n",
        "  distinction = True\n",
        "else :\n",
        "  distinction = False\n",
        "\n",
        "print (score, fail, distinction)"
      ],
      "metadata": {
        "colab": {
          "base_uri": "https://localhost:8080/"
        },
        "id": "GJjHO_Um6w9W",
        "outputId": "4bf47133-4de7-47f0-cc32-6cbf9aadcc0d"
      },
      "execution_count": 7,
      "outputs": [
        {
          "output_type": "stream",
          "name": "stdout",
          "text": [
            "Enter a number : 16\n",
            "16 False True\n"
          ]
        }
      ]
    },
    {
      "cell_type": "markdown",
      "source": [
        "* if temp < 20 you turn on the heat\n",
        "* if the heat is on you close the windows\n",
        "* if the windows are closed turn on ventilation"
      ],
      "metadata": {
        "id": "Piapio0Z7txK"
      }
    },
    {
      "cell_type": "code",
      "source": [
        "temp = int(input(\"Enter a temperature : \"))\n",
        "if temp < 20 :\n",
        "  heat = True\n",
        "else :\n",
        "  heat = False\n",
        "\n",
        "if heat == True :\n",
        "  windows = False\n",
        "else :\n",
        "  windows = True\n",
        "\n",
        "if windows == False :\n",
        "  ventilation = True\n",
        "else :\n",
        "  ventilation = False\n",
        "\n",
        "print (temp, heat, windows, ventilation)\n",
        "\n"
      ],
      "metadata": {
        "colab": {
          "base_uri": "https://localhost:8080/"
        },
        "id": "2IqyojVQ75ae",
        "outputId": "56b2f1f5-68f8-4105-cabe-99fb80798c34"
      },
      "execution_count": 8,
      "outputs": [
        {
          "output_type": "stream",
          "name": "stdout",
          "text": [
            "Enter a temperature : 25\n",
            "25 False True False\n"
          ]
        }
      ]
    },
    {
      "cell_type": "code",
      "source": [
        "students = ['Mary','Tom','Stelios','Kate']\n",
        "scores = [15,12,9,18]\n",
        "\n",
        "print (students [0 : 2])\n",
        "print (scores [0 : 2])"
      ],
      "metadata": {
        "colab": {
          "base_uri": "https://localhost:8080/"
        },
        "id": "woEskivf94W_",
        "outputId": "bb866409-d843-4ebd-9bb3-e0cf7d5b0e35"
      },
      "execution_count": 13,
      "outputs": [
        {
          "output_type": "stream",
          "name": "stdout",
          "text": [
            "['Mary', 'Tom']\n",
            "[15, 12]\n"
          ]
        }
      ]
    },
    {
      "cell_type": "code",
      "source": [
        "numbers = [10,20,30,40,50,60,70,80,90]\n",
        "print (numbers [1] )\n",
        "print (numbers [-2])\n",
        "print (numbers [0 : 3])\n",
        "print (numbers [-3 :])\n",
        "#ne pas mettre 0 pour aller jusqu'à la fin, juste ne rien mettre\n",
        "print (numbers [4 : 6])"
      ],
      "metadata": {
        "colab": {
          "base_uri": "https://localhost:8080/"
        },
        "id": "2T7xYNJu-6yt",
        "outputId": "551bec82-7aac-4987-a7df-b9fb19df7d51"
      },
      "execution_count": 25,
      "outputs": [
        {
          "output_type": "stream",
          "name": "stdout",
          "text": [
            "20\n",
            "80\n",
            "[10, 20, 30]\n",
            "[70, 80, 90]\n",
            "[50, 60]\n"
          ]
        }
      ]
    }
  ]
}