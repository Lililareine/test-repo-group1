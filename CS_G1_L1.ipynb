{
  "nbformat": 4,
  "nbformat_minor": 0,
  "metadata": {
    "colab": {
      "provenance": []
    },
    "kernelspec": {
      "name": "python3",
      "display_name": "Python 3"
    },
    "language_info": {
      "name": "python"
    }
  },
  "cells": [
    {
      "cell_type": "code",
      "execution_count": null,
      "metadata": {
        "colab": {
          "base_uri": "https://localhost:8080/"
        },
        "id": "ta6nAz7MCx41",
        "outputId": "17071233-ae5f-44d6-abb7-b201c6a00bf9"
      },
      "outputs": [
        {
          "output_type": "stream",
          "name": "stdout",
          "text": [
            "10\n",
            "Stelios\n",
            "London Paris\n"
          ]
        }
      ],
      "source": [
        "print(10)\n",
        "print (\"Stelios\")\n",
        "print (\"London\",\"Paris\")\n"
      ]
    },
    {
      "cell_type": "code",
      "source": [],
      "metadata": {
        "id": "LMnmYzz_pe6p"
      },
      "execution_count": null,
      "outputs": []
    },
    {
      "cell_type": "code",
      "source": [],
      "metadata": {
        "id": "Ch6Y3cCApgzO"
      },
      "execution_count": null,
      "outputs": []
    },
    {
      "cell_type": "code",
      "source": [
        "print(10*2)\n"
      ],
      "metadata": {
        "colab": {
          "base_uri": "https://localhost:8080/"
        },
        "id": "OZDbBJ5gEWnV",
        "outputId": "a046c68d-8d9e-4c4a-cff3-bf1d2aede380"
      },
      "execution_count": null,
      "outputs": [
        {
          "output_type": "stream",
          "name": "stdout",
          "text": [
            "20\n"
          ]
        }
      ]
    },
    {
      "cell_type": "code",
      "source": [
        "input(\"Enter your name : \")\n"
      ],
      "metadata": {
        "colab": {
          "base_uri": "https://localhost:8080/",
          "height": 52
        },
        "id": "-nkNU33iEvf3",
        "outputId": "567c18ac-76bc-4c66-e454-22fbdcd2c347"
      },
      "execution_count": null,
      "outputs": [
        {
          "name": "stdout",
          "output_type": "stream",
          "text": [
            "Enter your name : Lili\n"
          ]
        },
        {
          "output_type": "execute_result",
          "data": {
            "text/plain": [
              "'Lili'"
            ],
            "application/vnd.google.colaboratory.intrinsic+json": {
              "type": "string"
            }
          },
          "metadata": {},
          "execution_count": 5
        }
      ]
    },
    {
      "cell_type": "code",
      "source": [
        "# Print number 10.10\n",
        "print (10.10)\n",
        "\n"
      ],
      "metadata": {
        "colab": {
          "base_uri": "https://localhost:8080/"
        },
        "id": "dFQCvVbJFMVL",
        "outputId": "a7ab8fd4-b044-4657-9586-e5c182ec6e51"
      },
      "execution_count": null,
      "outputs": [
        {
          "output_type": "stream",
          "name": "stdout",
          "text": [
            "10.1\n"
          ]
        }
      ]
    },
    {
      "cell_type": "code",
      "source": [
        "from typing_extensions import LiteralString\n",
        "x = 10\n",
        "print (x)\n",
        "# x is called variable\n",
        "name = \"Lili\"\n",
        "print (name)"
      ],
      "metadata": {
        "colab": {
          "base_uri": "https://localhost:8080/"
        },
        "id": "Fl9PDq9oGGuU",
        "outputId": "2c62f367-69bb-4622-8ef3-a1fda418d0b7"
      },
      "execution_count": null,
      "outputs": [
        {
          "output_type": "stream",
          "name": "stdout",
          "text": [
            "10\n",
            "Lili\n"
          ]
        }
      ]
    },
    {
      "cell_type": "code",
      "source": [
        "city = input (\"where are you from ? : \")\n",
        "name = input (\"what is your name ? : \")\n",
        "print (name,city)"
      ],
      "metadata": {
        "colab": {
          "base_uri": "https://localhost:8080/"
        },
        "id": "_JRG7sNoGzoZ",
        "outputId": "090b7a14-833c-4177-a6b6-c064b8aaf2a6"
      },
      "execution_count": null,
      "outputs": [
        {
          "output_type": "stream",
          "name": "stdout",
          "text": [
            "where are you from ? : Paris\n",
            "what is your name ? : Lili\n",
            "Lili Paris\n"
          ]
        }
      ]
    },
    {
      "cell_type": "code",
      "source": [
        "x = input (\"Enter a number\")\n",
        "y = input (\"Enter a second number\")\n",
        "print (x+y)\n"
      ],
      "metadata": {
        "colab": {
          "base_uri": "https://localhost:8080/"
        },
        "id": "58b6cxfpIVex",
        "outputId": "b77e8c89-90b3-41bb-a4f2-f40822bea35f"
      },
      "execution_count": null,
      "outputs": [
        {
          "output_type": "stream",
          "name": "stdout",
          "text": [
            "Enter a number10\n",
            "Enter a second number20\n",
            "1020\n"
          ]
        }
      ]
    },
    {
      "cell_type": "code",
      "source": [
        "x = int(input(\"Enter a number : \"))\n",
        "y = int(input(\"Enter a second number : \"))\n",
        "print (\"result is\",x+y)\n"
      ],
      "metadata": {
        "colab": {
          "base_uri": "https://localhost:8080/"
        },
        "id": "I2R-s2WCI4fJ",
        "outputId": "d57bc989-ef5b-4df3-fb94-2e792d544375"
      },
      "execution_count": null,
      "outputs": [
        {
          "output_type": "stream",
          "name": "stdout",
          "text": [
            "Enter a number : 10\n",
            "Enter a second number : 20\n",
            "result is 30\n"
          ]
        }
      ]
    },
    {
      "cell_type": "code",
      "source": [
        "x = int(input (\"Enter a number : \"))\n",
        "y = int (input(\"Enter a second number : \"))\n",
        "z = int (input(\"Enter a third number : \"))\n",
        "print (\"result is : \", x*y*z)\n",
        "\n",
        "\n"
      ],
      "metadata": {
        "colab": {
          "base_uri": "https://localhost:8080/"
        },
        "id": "4qf2SAveKDM6",
        "outputId": "4884fb60-58f8-4e3b-dca5-586d414219c7"
      },
      "execution_count": null,
      "outputs": [
        {
          "output_type": "stream",
          "name": "stdout",
          "text": [
            "Enter a number : 1\n",
            "Enter a second number : 2\n",
            "Enter a third number : 3\n",
            "result is :  6\n"
          ]
        }
      ]
    },
    {
      "cell_type": "code",
      "source": [
        "a = float (input(\"Enter a number : \"))\n",
        "b = float (input(\"Enter a second number : \"))\n",
        "print (\"result is : \", a/b)\n",
        "\n"
      ],
      "metadata": {
        "colab": {
          "base_uri": "https://localhost:8080/"
        },
        "id": "2S3awf9bLRZy",
        "outputId": "2bfd2c0d-8f17-4d0c-85bf-f41ea7ceaf0f"
      },
      "execution_count": null,
      "outputs": [
        {
          "output_type": "stream",
          "name": "stdout",
          "text": [
            "Enter a number : 6\n",
            "Enter a second number : 2\n",
            "result is :  3.0\n"
          ]
        }
      ]
    },
    {
      "cell_type": "code",
      "source": [
        "x = float (input (\"Enter a number : \"))\n",
        "y = float (input (\"Enter a number : \"))\n",
        "if y == 0 :\n",
        "  print (\"I cannot divide\")\n",
        "else :\n",
        "  print (x/y)\n"
      ],
      "metadata": {
        "colab": {
          "base_uri": "https://localhost:8080/"
        },
        "id": "cCnuyg2tMSqO",
        "outputId": "122759e0-0346-4315-8fb2-e92f635fec33"
      },
      "execution_count": null,
      "outputs": [
        {
          "output_type": "stream",
          "name": "stdout",
          "text": [
            "Enter a number : 10\n",
            "Enter a number : 5\n",
            "2.0\n"
          ]
        }
      ]
    },
    {
      "cell_type": "code",
      "source": [
        "city = input (\"Enter a city : \")\n",
        "if city == \"Paris\" :\n",
        "  print (\"Bonjour\")\n",
        "  print (10)\n",
        "else :\n",
        "  print (\"Hi\")\n",
        "  print (100)\n"
      ],
      "metadata": {
        "colab": {
          "base_uri": "https://localhost:8080/"
        },
        "id": "yQEqlghWNQ6J",
        "outputId": "ed53b9d1-3dc1-4180-923b-812ef65c19c0"
      },
      "execution_count": null,
      "outputs": [
        {
          "output_type": "stream",
          "name": "stdout",
          "text": [
            "Enter a city : Paris\n",
            "Bonjour\n",
            "10\n"
          ]
        }
      ]
    },
    {
      "cell_type": "markdown",
      "source": [
        "exercise 1\n",
        "\n",
        "create a program to ask the user their name and their age. If the user is over 18, then print \"you are an adult\". If the user is under 18, then print \"you are a kid !\""
      ],
      "metadata": {
        "id": "PWCzRILXR0yb"
      }
    },
    {
      "cell_type": "code",
      "source": [
        "x = input (\"what is your name ? : \")\n",
        "y = int(input (\"how old are you ? : \"))\n",
        "# mettre \"int\" devant car 19 est un nombre !!!\n",
        "# < , > , <= , >=\n",
        "if y >= 18 :\n",
        "  print (\"you are an adult\")\n",
        "else :\n",
        "  print (\"you are a kid !\")"
      ],
      "metadata": {
        "colab": {
          "base_uri": "https://localhost:8080/"
        },
        "id": "Zszsi77zSLJh",
        "outputId": "198ee521-779c-4df6-ad9c-2d2c0bfcc8e8"
      },
      "execution_count": null,
      "outputs": [
        {
          "output_type": "stream",
          "name": "stdout",
          "text": [
            "what is your name ? : Lili\n",
            "how old are you ? : 18\n",
            "you are an adult\n"
          ]
        }
      ]
    },
    {
      "cell_type": "markdown",
      "source": [
        "create a program, ask the user to enter two numbers. Print the maximum number\n"
      ],
      "metadata": {
        "id": "f3dYARjGUis8"
      }
    },
    {
      "cell_type": "code",
      "source": [
        "a = int(input(\"Enter a number : \"))\n",
        "b = int (input(\"Enter a second number : \"))\n",
        "if a > b :\n",
        "  print (a)\n",
        "else :\n",
        "  print (b)\n",
        "\n"
      ],
      "metadata": {
        "colab": {
          "base_uri": "https://localhost:8080/"
        },
        "id": "pE8m_uwOUqET",
        "outputId": "0e259492-bcd6-4349-bd90-b419922c3ec9"
      },
      "execution_count": null,
      "outputs": [
        {
          "output_type": "stream",
          "name": "stdout",
          "text": [
            "Enter a number : 17\n",
            "Enter a second number : 3\n",
            "17\n"
          ]
        }
      ]
    },
    {
      "cell_type": "markdown",
      "source": [],
      "metadata": {
        "id": "keokrGVZVyi8"
      }
    },
    {
      "cell_type": "code",
      "source": [
        "x = 10\n",
        "y = 20\n",
        "if x > y :\n",
        "  print (\"x is greater than y\")\n",
        "elif x < y :\n",
        "  print (\"x is less than y\")\n",
        "else :\n",
        "  print (\"x is equal to y\")"
      ],
      "metadata": {
        "colab": {
          "base_uri": "https://localhost:8080/"
        },
        "id": "i-H8pdvaV0Qg",
        "outputId": "ed56e041-706f-4222-b39e-29d46974cad0"
      },
      "execution_count": null,
      "outputs": [
        {
          "output_type": "stream",
          "name": "stdout",
          "text": [
            "x is less than y\n"
          ]
        }
      ]
    },
    {
      "cell_type": "markdown",
      "source": [
        "create a program to ask the user to enter a score.\n",
        "If the score is less than 50 you failed.\n",
        "If the score is between 50 and 70 you passed. If the score is greater than 70, you passed with distinction."
      ],
      "metadata": {
        "id": "6biwuHYKWZjW"
      }
    },
    {
      "cell_type": "code",
      "source": [
        "score = int (input (\"Enter a score : \"))\n",
        "if score < 50 :\n",
        "  print (\"you failed\")\n",
        "elif score >= 50 and score < 70 :\n",
        "  print (\"you passed\")\n",
        "elif score >= 70 and score <= 100 :\n",
        "  print (\"you passed with distinction\")\n",
        "else :\n",
        "  print (\"something is wrong\")"
      ],
      "metadata": {
        "colab": {
          "base_uri": "https://localhost:8080/"
        },
        "id": "GRk2ZemKWsDj",
        "outputId": "9cd529d0-473e-4768-b48a-e8b5dfbfa12a"
      },
      "execution_count": null,
      "outputs": [
        {
          "output_type": "stream",
          "name": "stdout",
          "text": [
            "Enter a score : 120\n",
            "something is wrong\n"
          ]
        }
      ]
    },
    {
      "cell_type": "code",
      "source": [
        "x = int(input(\"Enter a number : \"))\n",
        "y = int(input(\"Enter a number : \"))\n",
        "operation = input (\"Enter an operation (+,-,*,/,**)\")\n",
        "if operation == \"+\" :\n",
        "  print (x+y)\n",
        "elif operation == \"-\" :\n",
        "  print (x-y)\n",
        "elif operation == \"*\" :\n",
        "  print (x*y)\n",
        "elif operation == \"/\" and y !=0 :\n",
        "  # == equal =! not equal\n",
        "  print (x/y)\n",
        "elif operation == \"**\" :\n",
        "  print (x**y)\n",
        "else :\n",
        "  print (\"I do not support this operation\")\n"
      ],
      "metadata": {
        "colab": {
          "base_uri": "https://localhost:8080/"
        },
        "id": "BtbCM8F_pkFN",
        "outputId": "0ecc9f56-0b32-4fd3-aeef-4ced751464ef"
      },
      "execution_count": null,
      "outputs": [
        {
          "output_type": "stream",
          "name": "stdout",
          "text": [
            "Enter a number : 10\n",
            "Enter a number : 5\n",
            "Enter an operation (+,-,*,/,**)**\n",
            "100000\n"
          ]
        }
      ]
    },
    {
      "cell_type": "markdown",
      "source": [],
      "metadata": {
        "id": "e8S3ZPAbYkj3"
      }
    },
    {
      "cell_type": "markdown",
      "source": [
        "ask the user to enter a number. if the number is between 0 and 1, print the percentage of the number. in any other case, print please enter a number between 0 and 1."
      ],
      "metadata": {
        "id": "VRYrhbR6sBz_"
      }
    },
    {
      "cell_type": "code",
      "source": [
        "num = float (input(\"Enter a number : \"))\n",
        "if num >= 0 and num <= 1 :\n",
        "  print (num*100, \"%\")\n",
        "else :\n",
        "  print (\"I cannot do it !\")"
      ],
      "metadata": {
        "colab": {
          "base_uri": "https://localhost:8080/"
        },
        "id": "yYRZxBgEsPmQ",
        "outputId": "f116f9f1-fb7f-4a23-eed3-87f86e04cd87"
      },
      "execution_count": null,
      "outputs": [
        {
          "output_type": "stream",
          "name": "stdout",
          "text": [
            "Enter a number : 0.5\n",
            "50.0 %\n"
          ]
        }
      ]
    },
    {
      "cell_type": "code",
      "source": [
        "text = \"My name is Lili and I live in London\"\n",
        "print (text [-6 :])\n",
        "#always start from 0\n"
      ],
      "metadata": {
        "colab": {
          "base_uri": "https://localhost:8080/"
        },
        "id": "CYRH5VeDtfvg",
        "outputId": "9acf38c1-bac2-418c-f878-d411465314c1"
      },
      "execution_count": null,
      "outputs": [
        {
          "output_type": "stream",
          "name": "stdout",
          "text": [
            "London\n"
          ]
        }
      ]
    },
    {
      "cell_type": "markdown",
      "source": [
        "ask the user to enter a city. If the user enters a city starting with L capital, print \"starts with L capital\". If else, print something else\n"
      ],
      "metadata": {
        "id": "Oy1O13mww9lK"
      }
    },
    {
      "cell_type": "code",
      "source": [
        "\n",
        "city = input (\"Enter a city :\")\n",
        "if city [0] == \"L\" :\n",
        "  print (\"Starts with L\")\n",
        "else :\n",
        "  print (\"Doesn't start with L\")\n"
      ],
      "metadata": {
        "colab": {
          "base_uri": "https://localhost:8080/"
        },
        "id": "yUt0sSBDxIda",
        "outputId": "d08489f1-feb2-460f-c69a-9e6c348b5f76"
      },
      "execution_count": null,
      "outputs": [
        {
          "output_type": "stream",
          "name": "stdout",
          "text": [
            "Enter a city :London\n",
            "Starts with L\n"
          ]
        }
      ]
    },
    {
      "cell_type": "code",
      "source": [
        "phrase = input(\"Enter a phrase :\")\n",
        "if phrase [-1] != \".\" :\n",
        "  print (\"you need a dot!\")\n",
        "else :\n",
        "  print (\"All good!\")"
      ],
      "metadata": {
        "colab": {
          "base_uri": "https://localhost:8080/"
        },
        "id": "EGQ49Om4yX56",
        "outputId": "a3622392-b584-41a1-845e-a11efe8eb1c5"
      },
      "execution_count": null,
      "outputs": [
        {
          "output_type": "stream",
          "name": "stdout",
          "text": [
            "Enter a phrase :hello.\n",
            "All good!\n"
          ]
        }
      ]
    }
  ]
}